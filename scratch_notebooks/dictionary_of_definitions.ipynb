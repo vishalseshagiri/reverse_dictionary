{
 "cells": [
  {
   "cell_type": "code",
   "execution_count": 4,
   "metadata": {},
   "outputs": [],
   "source": [
    "from nltk.tokenize import regexp_tokenize\n",
    "from nltk.corpus import wordnet as wn\n",
    "from nltk.corpus import stopwords\n",
    "import json"
   ]
  },
  {
   "cell_type": "code",
   "execution_count": 3,
   "metadata": {},
   "outputs": [],
   "source": [
    "ensw = stopwords.words('english')"
   ]
  },
  {
   "cell_type": "markdown",
   "metadata": {},
   "source": [
    "### load the word_dict"
   ]
  },
  {
   "cell_type": "code",
   "execution_count": 5,
   "metadata": {},
   "outputs": [],
   "source": [
    "with open(\"word_dict.json\", \"rb\") as file:\n",
    "    dictionary = file.read()"
   ]
  },
  {
   "cell_type": "code",
   "execution_count": 6,
   "metadata": {},
   "outputs": [],
   "source": [
    "dictionary = json.loads(dictionary)"
   ]
  },
  {
   "cell_type": "code",
   "execution_count": 9,
   "metadata": {},
   "outputs": [
    {
     "name": "stdout",
     "output_type": "stream",
     "text": [
      "{'words': ['aardvark'], 'definitions': ['nocturnal burrowing mammal of the grasslands of Africa that feeds on termites; sole extant representative of the order Tubulidentata'], 'partofspeech': ['n'], 'synonyms': ['ant_bear', 'aardvark', 'Orycteropus_afer', 'anteater'], 'antonyms': []}\n"
     ]
    }
   ],
   "source": [
    "for key in dictionary:\n",
    "    print(dictionary.get(key))\n",
    "    break"
   ]
  },
  {
   "cell_type": "markdown",
   "metadata": {},
   "source": [
    "### make the dictionary consisting of words and all the definition indices it is present in"
   ]
  },
  {
   "cell_type": "code",
   "execution_count": 10,
   "metadata": {},
   "outputs": [],
   "source": [
    "definition_dictionary = {}"
   ]
  },
  {
   "cell_type": "code",
   "execution_count": 12,
   "metadata": {},
   "outputs": [],
   "source": [
    "for dict_word, info in dictionary.items():\n",
    "    for definition in info.get('definitions'):\n",
    "        word_array = regexp_tokenize(definition, \"[\\w']+\")\n",
    "        word_array = [item for item in word_array if item not in ensw]\n",
    "        for word in word_array:\n",
    "            if definition_dictionary.get(word):\n",
    "                definition_dictionary[word].append(dict_word)\n",
    "            else:\n",
    "                definition_dictionary.update({word:[dict_word]})"
   ]
  },
  {
   "cell_type": "code",
   "execution_count": 14,
   "metadata": {},
   "outputs": [
    {
     "name": "stdout",
     "output_type": "stream",
     "text": [
      "nocturnal\n",
      "['aardvark', 'anteater', 'anteaters', 'armadillo', 'bat', 'bats', 'bittern', 'centipede', 'centipedes', 'cockroach', 'cockroaches', 'fireflies', 'firefly', 'gecko', 'hedgehog', 'hedgehogs', 'hooter', 'hooters', 'hyaena', 'hyaenas', 'hyena', 'hyenas', 'insectivores', 'jackal', 'jackals', 'kiwi', 'kiwis', 'moth', 'moths', 'nightingale', 'nightingales', 'noctuids', 'ocelot', 'ocelots', 'opossum', 'owl', 'owls', 'peccary', 'possum', 'possums', 'raccoon', 'raccoons', 'racoon', 'roach', 'roaches', 'sweeper', 'sweepers', 'tapir']\n"
     ]
    }
   ],
   "source": [
    "for key in definition_dictionary:\n",
    "    print(key)\n",
    "    print(definition_dictionary.get(key))\n",
    "    break"
   ]
  },
  {
   "cell_type": "code",
   "execution_count": 15,
   "metadata": {},
   "outputs": [],
   "source": [
    "definition_dictionary_data = json.dumps(definition_dictionary).encode(\"utf-8\")"
   ]
  },
  {
   "cell_type": "markdown",
   "metadata": {},
   "source": [
    "### push it to a json file"
   ]
  },
  {
   "cell_type": "code",
   "execution_count": 16,
   "metadata": {},
   "outputs": [],
   "source": [
    "with open(\"definition_dictionary\", \"wb\") as file:\n",
    "    file.write(definition_dictionary_data)"
   ]
  },
  {
   "cell_type": "markdown",
   "metadata": {},
   "source": [
    "### push to tanay's firebase"
   ]
  },
  {
   "cell_type": "code",
   "execution_count": null,
   "metadata": {},
   "outputs": [],
   "source": []
  }
 ],
 "metadata": {
  "kernelspec": {
   "display_name": "Python 3",
   "language": "python",
   "name": "python3"
  },
  "language_info": {
   "codemirror_mode": {
    "name": "ipython",
    "version": 3
   },
   "file_extension": ".py",
   "mimetype": "text/x-python",
   "name": "python",
   "nbconvert_exporter": "python",
   "pygments_lexer": "ipython3",
   "version": "3.6.3"
  }
 },
 "nbformat": 4,
 "nbformat_minor": 2
}
